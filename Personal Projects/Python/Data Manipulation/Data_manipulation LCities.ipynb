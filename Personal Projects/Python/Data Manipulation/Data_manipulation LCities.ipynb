{
 "cells": [
  {
   "cell_type": "code",
   "execution_count": null,
   "id": "70fcdc08",
   "metadata": {},
   "outputs": [],
   "source": [
    "# Import the libraries \n",
    "import csv\n",
    "import operator\n",
    "import copy\n",
    "from token import EQUAL\n",
    "from builtins import sorted"
   ]
  },
  {
   "cell_type": "markdown",
   "id": "1bdfea9e",
   "metadata": {},
   "source": [
    "The purpose of this data cleaning and manipulation is to format the data of the csv file and make it appropriate to use for animation with PowerBI. \n",
    "\n",
    "I will make the following format changes to the csv data file that I downloaded.\n",
    "\n",
    "It will merge the columns Place and State and make it one column with the format State-Place, turning these two columns into a location. (Lafayette is in more than one state)\n",
    "\n",
    "It will transpose Years and Population from their current row format in the file, and make them columns. The updated csv file will have Years and Population as columns.\n",
    "\n",
    "A new column Rank will be created which will rank the State-City based on population. "
   ]
  },
  {
   "cell_type": "code",
   "execution_count": null,
   "id": "aae4f9dd",
   "metadata": {},
   "outputs": [],
   "source": [
    "# Open the csv file\n",
    "reader = csv.reader(open(r'\\Downloads\\Largest_Cities.csv'), delimiter=\",\")"
   ]
  },
  {
   "cell_type": "code",
   "execution_count": null,
   "id": "485feb65",
   "metadata": {},
   "outputs": [],
   "source": [
    "# Initialize the variables\n",
    "u = 'State - Place'\n",
    "x = 'Year'\n",
    "y = 'Population'\n",
    "z = 'Rank'\n",
    "# rows_so_far and c are just counter variables that will be used in code loops later\n",
    "rows_so_far = 0\n",
    "c= 0"
   ]
  },
  {
   "cell_type": "code",
   "execution_count": 4,
   "id": "9d865ded",
   "metadata": {},
   "outputs": [],
   "source": [
    "# Intializing the 2 dimentional list\n",
    "pool =[]\n",
    "pool.append([])"
   ]
  },
  {
   "cell_type": "markdown",
   "id": "ecd78485",
   "metadata": {},
   "source": [
    "After populating the header, I will get into the main data records that I need. \n",
    "\n",
    "Now, I will append the population of a city for each year. I create a new variable which is the length of the pool array. This is helpful in verification and not overplotting. \n",
    "\n",
    "In nested loops, there are a lot of conditional verification steps using if-else that need to be carried out. .deepcopy() is just a simple copy function we import from the copy library. And at the end of the loop, our rows_so_far variable is increased by 1."
   ]
  },
  {
   "cell_type": "code",
   "execution_count": null,
   "id": "67dd933d",
   "metadata": {},
   "outputs": [],
   "source": [
    "# Loop through the csv file and append the list\n",
    "for row in reader:\n",
    "    if rows_so_far==0:\n",
    "        rows_so_far +=1\n",
    "        header = row\n",
    "        \n",
    "# Populate Header\n",
    "# Header for the csv file should include\n",
    "# State - City, Year, Population, Rank\n",
    "        for j in range(0,4):\n",
    "            if j==0:\n",
    "                pool.append([])\n",
    "                pool[0].append(u)\n",
    "            if j==1:\n",
    "                pool[0].append(x)\n",
    "            if j==2:\n",
    "                pool[0].append(y)\n",
    "            if j==3:\n",
    "                pool[0].append(z)\n",
    "    else:\n",
    "# Populate items\n",
    "# Append the population a city for each year\n",
    "        for i in range(len(row)-2):\n",
    "            a=len(pool)\n",
    "            if not row==[]:\n",
    "                if i==0 or i>=1:\n",
    "                    item=copy.deepcopy(row)\n",
    "                    r=copy.deepcopy(row)\n",
    "                    \n",
    "# Populate the values for a column\n",
    "                    for j in range(0,4):\n",
    "                        if item[i+2] != '':\n",
    "                            if j==0:\n",
    "                        \n",
    "# Concatemate the state and city value\n",
    "                                r[0]= item[j+1]+' - '+item[j]\n",
    "                                pool.append([])\n",
    "                                pool[a-1].append(r[0])\n",
    "# Populate year value\n",
    "                            if j==1:\n",
    "                                pool[a-1].append(int(header[i+2]))\n",
    "# Populate population value\n",
    "# In case population is nil, do not append the record\n",
    "                            if j==2:\n",
    "                                if item[i+2]=='':\n",
    "                                    pool[a-1].append(int(0))\n",
    "                                else:\n",
    "                                    pool[a-1].append(int(item[i+2]))\n",
    "                                \n",
    "# Initialise the rank to zero\n",
    "                            if j==3:\n",
    "                                    pool[a-1].append(int(0))\n",
    "    rows_so_far+=1"
   ]
  },
  {
   "cell_type": "code",
   "execution_count": 6,
   "id": "bb3c9199",
   "metadata": {},
   "outputs": [],
   "source": [
    "# Check the length of the list\n",
    "a = len(pool)"
   ]
  },
  {
   "cell_type": "code",
   "execution_count": 7,
   "id": "1b017bf3",
   "metadata": {},
   "outputs": [],
   "source": [
    "# Populate the list with all values exccept header as\n",
    "# Sorting cannot be done on integer values when one record has character value\n",
    "list = pool[1:a-1]"
   ]
  },
  {
   "cell_type": "code",
   "execution_count": 8,
   "id": "57e023f3",
   "metadata": {},
   "outputs": [],
   "source": [
    "# Sort the list by Year & Population\n",
    "list.sort(key =lambda b: (b[1],b[2]), reverse=True )"
   ]
  },
  {
   "cell_type": "code",
   "execution_count": 9,
   "id": "6d3a763a",
   "metadata": {},
   "outputs": [],
   "source": [
    "# Add the header to the list\n",
    "list1= []\n",
    "list1.append([])\n",
    "list1[0] = pool[0]\n",
    "list1[1:a-1] = list[0:a-2]"
   ]
  },
  {
   "cell_type": "markdown",
   "id": "601448ad",
   "metadata": {},
   "source": [
    "The csv.writer function is an output file function that creates a new csv file after data cleaning and manipulation\n",
    "\n",
    "I will use conditional verification using if-else commands to make sure the rows, fall into the right places"
   ]
  },
  {
   "cell_type": "code",
   "execution_count": null,
   "id": "42e3e8ad",
   "metadata": {},
   "outputs": [],
   "source": [
    "# Convert the list into csv file\n",
    "mycsv = csv.writer(open(r'Downloads\\Largest_Cities_V2.csv','w', newline=''))\n",
    "for row in list1:\n",
    "# Fetching the row index\n",
    "# No calculation is done at header level\n",
    "    e= list1.index(row)\n",
    "# Compare the year value of the current record with the year value of the previous record\n",
    "# if same calculate the rank, if different assign the rank as one\n",
    "    if row[1] != c and e !=0:\n",
    "        v=1\n",
    "        c= row[1]\n",
    "        row[3]= v\n",
    "    else:\n",
    "        if row[1] == c and e != 0:\n",
    "            v+=1\n",
    "            row[3]= v\n",
    "# Write row to csv\n",
    "    mycsv.writerow(row)"
   ]
  }
 ],
 "metadata": {
  "kernelspec": {
   "display_name": "Python 3 (ipykernel)",
   "language": "python",
   "name": "python3"
  },
  "language_info": {
   "codemirror_mode": {
    "name": "ipython",
    "version": 3
   },
   "file_extension": ".py",
   "mimetype": "text/x-python",
   "name": "python",
   "nbconvert_exporter": "python",
   "pygments_lexer": "ipython3",
   "version": "3.9.7"
  }
 },
 "nbformat": 4,
 "nbformat_minor": 5
}
